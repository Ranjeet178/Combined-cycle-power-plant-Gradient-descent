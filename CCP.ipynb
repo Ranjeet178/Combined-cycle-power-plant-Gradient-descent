{
 "cells": [
  {
   "cell_type": "code",
   "execution_count": 65,
   "metadata": {},
   "outputs": [],
   "source": [
    "import numpy as np\n",
    "import pandas as pd\n",
    "from sklearn.preprocessing import StandardScaler"
   ]
  },
  {
   "cell_type": "code",
   "execution_count": 66,
   "metadata": {},
   "outputs": [],
   "source": [
    "train_data = np.genfromtxt(\"0000000000002419_training_ccpp_x_y_train.csv\", delimiter = ',')\n",
    "x_train = train_data[:, 0:train_data.shape[1]-1]\n",
    "y_train = train_data[:, train_data.shape[1]-1]\n",
    "x_test = np.genfromtxt(\"0000000000002419_test_ccpp_x_test.csv\", delimiter = \",\")"
   ]
  },
  {
   "cell_type": "code",
   "execution_count": 67,
   "metadata": {},
   "outputs": [],
   "source": [
    "df = pd.DataFrame(x_train)\n",
    "N = x_train.shape[1]\n",
    "count =1\n",
    "for i in range(N):\n",
    "    for j in range(i, N):\n",
    "        df[count] = df[df.columns[i]] * df[df.columns[j]]\n",
    "        count += 1\n",
    "\n",
    "for i in range(N):\n",
    "    for j in range(i, N):\n",
    "        for k in range(j, N):\n",
    "            df[count] = df[df.columns[i]]*df[df.columns[j]]*df[df.columns[k]]\n",
    "            count += 1\n",
    "\n",
    "x_train = df.values\n",
    "\n",
    "# adding dummy data to testing data\n",
    "df = pd.DataFrame(x_test)\n",
    "N = x_test.shape[1]\n",
    "count =1\n",
    "for i in range(N):\n",
    "    for j in range(i, N):\n",
    "        df[count] = df[df.columns[i]] * df[df.columns[j]]\n",
    "        count += 1\n",
    "\n",
    "for i in range(N):\n",
    "    for j in range(i, N):\n",
    "        for k in range(j, N):\n",
    "            df[count] = df[df.columns[i]]*df[df.columns[j]]*df[df.columns[k]]\n",
    "            count += 1\n",
    "\n",
    "x_test = df.values"
   ]
  },
  {
   "cell_type": "code",
   "execution_count": 68,
   "metadata": {},
   "outputs": [],
   "source": [
    "scaler = StandardScaler()\n",
    "scaler.fit(x_train)\n",
    "x_train = scaler.transform(x_train)\n",
    "x_test = scaler.transform(x_test)"
   ]
  },
  {
   "cell_type": "code",
   "execution_count": 69,
   "metadata": {},
   "outputs": [],
   "source": [
    "def step_gradient(x, y, learning_rate, m):\n",
    "    M = x.shape[0]\n",
    "    m_slope = (-2/M)*(((y - (x*m).sum(axis=1)).reshape(-1, 1))*x).sum(axis=0)\n",
    "    m = m - learning_rate * m_slope\n",
    "    return m"
   ]
  },
  {
   "cell_type": "code",
   "execution_count": 70,
   "metadata": {},
   "outputs": [],
   "source": [
    "def generic_gd(x, y, learning_rate, num_iterations):\n",
    "    m = np.zeros(x.shape[1])\n",
    "    for i in range(num_iterations):\n",
    "        m = step_gradient(x, y, learning_rate, m)\n",
    "        #print(i, \"Cost :\", cost(x, y, m))\n",
    "    return m"
   ]
  },
  {
   "cell_type": "code",
   "execution_count": 71,
   "metadata": {},
   "outputs": [],
   "source": [
    "def cost(x, y, m):\n",
    "    return ((y - (x*m).sum(axis=1)) ** 2).mean()"
   ]
  },
  {
   "cell_type": "code",
   "execution_count": 72,
   "metadata": {},
   "outputs": [
    {
     "name": "stdout",
     "output_type": "stream",
     "text": [
      "[-1.07124629e+01 -6.11060503e+00 -2.81486494e+00 -7.32120739e-01\n",
      "  4.15919256e-01 -7.32120739e-01  4.15919256e-01  8.96906596e-01\n",
      "  8.96906596e-01  9.21618830e-01  6.44791462e-01 -2.81486494e+00\n",
      " -7.32120739e-01  4.15919256e-01  8.96906596e-01  4.15919256e-01\n",
      "  8.96906596e-01  9.21618830e-01  9.21618830e-01  6.44791462e-01\n",
      "  1.76802968e-01  8.96906596e-01  9.21618830e-01  6.44791462e-01\n",
      "  6.44791462e-01  1.76802968e-01 -4.04637653e-01  1.76802968e-01\n",
      " -4.04637653e-01 -1.04527032e+00 -1.70754204e+00  4.54431287e+02]\n"
     ]
    }
   ],
   "source": [
    "def run(x, y):\n",
    "    df = pd.DataFrame(x)\n",
    "    df[x.shape[1]] = 1\n",
    "    x = df.values\n",
    "    learning_rate = 0.009\n",
    "    num_iterations = 1000\n",
    "    m = generic_gd(x, y, learning_rate, num_iterations)\n",
    "    print(m)\n",
    "    return m\n",
    "m = run(x_train, y_train)"
   ]
  },
  {
   "cell_type": "code",
   "execution_count": 73,
   "metadata": {},
   "outputs": [],
   "source": [
    "def predict(x,m):\n",
    "    return (x*m).sum(axis=1)"
   ]
  },
  {
   "cell_type": "code",
   "execution_count": 74,
   "metadata": {},
   "outputs": [
    {
     "name": "stdout",
     "output_type": "stream",
     "text": [
      "[472.12824565 471.8653367  437.29587881 ... 442.16642059 444.00820369\n",
      " 448.1320055 ]\n"
     ]
    }
   ],
   "source": [
    "df = pd.DataFrame(x_test)\n",
    "df[x_test.shape[1]] = 1\n",
    "x_test = df.values\n",
    "y_pred = predict(x_test, m)\n",
    "print(y_pred)"
   ]
  },
  {
   "cell_type": "code",
   "execution_count": 75,
   "metadata": {},
   "outputs": [],
   "source": [
    "np.savetxt('Predictions_ccpp_data.csv',y_pred, fmt = \"%.8f\")"
   ]
  }
 ],
 "metadata": {
  "kernelspec": {
   "display_name": "Python 3",
   "language": "python",
   "name": "python3"
  },
  "language_info": {
   "codemirror_mode": {
    "name": "ipython",
    "version": 3
   },
   "file_extension": ".py",
   "mimetype": "text/x-python",
   "name": "python",
   "nbconvert_exporter": "python",
   "pygments_lexer": "ipython3",
   "version": "3.8.3"
  }
 },
 "nbformat": 4,
 "nbformat_minor": 4
}
